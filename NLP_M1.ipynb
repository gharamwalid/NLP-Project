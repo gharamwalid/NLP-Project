{
  "nbformat": 4,
  "nbformat_minor": 0,
  "metadata": {
    "colab": {
      "provenance": []
    },
    "kernelspec": {
      "name": "python3",
      "display_name": "Python 3"
    },
    "language_info": {
      "name": "python"
    }
  },
  "cells": [
    {
      "cell_type": "code",
      "execution_count": 1,
      "metadata": {
        "id": "kAa1M1iQWpcI"
      },
      "outputs": [],
      "source": [
        "import pandas as pd\n"
      ]
    },
    {
      "cell_type": "code",
      "source": [
        "import pandas as pd\n",
        "\n",
        "# Specify the path to the uploaded dataset file\n",
        "file_path = '/content/Spotify Million Song Dataset_exported.csv'  # Replace with the actual file path\n",
        "\n",
        "# Attempt to read the dataset into a DataFrame\n",
        "try:\n",
        "    spotify_df = pd.read_csv(file_path, encoding='utf-8')\n",
        "    print(\"Dataset loaded successfully!\")\n",
        "except pd.errors.ParserError as e:\n",
        "    print(\"Error loading dataset:\", e)\n",
        "    print(\"Attempting to read with error_bad_lines=False...\")\n",
        "    # Attempt to read the dataset with error_bad_lines=False\n",
        "    try:\n",
        "        spotify_df = pd.read_csv(file_path, error_bad_lines=False)\n",
        "        print(\"Dataset loaded successfully with error_bad_lines=False!\")\n",
        "    except pd.errors.ParserError as e:\n",
        "        print(\"Error loading dataset even with error_bad_lines=False:\", e)\n"
      ],
      "metadata": {
        "colab": {
          "base_uri": "https://localhost:8080/"
        },
        "id": "slPaOVZobUJq",
        "outputId": "093954a1-25cc-4986-e224-eb6e790dce6f"
      },
      "execution_count": 7,
      "outputs": [
        {
          "output_type": "stream",
          "name": "stdout",
          "text": [
            "Dataset loaded successfully!\n"
          ]
        }
      ]
    },
    {
      "cell_type": "code",
      "source": [
        "# Display the first few rows of the dataset\n",
        "print(spotify_df.head())\n",
        "\n",
        "# Get information about the dataset, including data types and missing values\n",
        "print(spotify_df.info())\n",
        "\n",
        "# Summary statistics for numerical columns\n",
        "print(spotify_df.describe())\n"
      ],
      "metadata": {
        "colab": {
          "base_uri": "https://localhost:8080/"
        },
        "id": "kVZNka9SeFrV",
        "outputId": "89087ef6-ce8f-43af-aa16-f28ea4a81d30"
      },
      "execution_count": 8,
      "outputs": [
        {
          "output_type": "stream",
          "name": "stdout",
          "text": [
            "  artist                   song                                        link  \\\n",
            "0   ABBA  Ahe's My Kind Of Girl  /a/abba/ahes+my+kind+of+girl_20598417.html   \n",
            "1   ABBA       Andante, Andante       /a/abba/andante+andante_20002708.html   \n",
            "2   ABBA         As Good As New        /a/abba/as+good+as+new_20003033.html   \n",
            "3   ABBA                   Bang                  /a/abba/bang_20598415.html   \n",
            "4   ABBA       Bang-A-Boomerang      /a/abba/bang+a+boomerang_20002668.html   \n",
            "\n",
            "                                                text  \n",
            "0  Look at her face, it's a wonderful face  \\nAnd...  \n",
            "1  Take it easy with me, please  \\nTouch me gentl...  \n",
            "2  I'll never know why I had to go  \\nWhy I had t...  \n",
            "3  Making somebody happy is a question of give an...  \n",
            "4  Making somebody happy is a question of give an...  \n",
            "<class 'pandas.core.frame.DataFrame'>\n",
            "RangeIndex: 57650 entries, 0 to 57649\n",
            "Data columns (total 4 columns):\n",
            " #   Column  Non-Null Count  Dtype \n",
            "---  ------  --------------  ----- \n",
            " 0   artist  57650 non-null  object\n",
            " 1   song    57650 non-null  object\n",
            " 2   link    57650 non-null  object\n",
            " 3   text    57650 non-null  object\n",
            "dtypes: object(4)\n",
            "memory usage: 1.8+ MB\n",
            "None\n",
            "              artist                                    song  \\\n",
            "count          57650                                   57650   \n",
            "unique           643                                   44824   \n",
            "top     Donna Summer  Have Yourself A Merry Little Christmas   \n",
            "freq             191                                      35   \n",
            "\n",
            "                                              link  \\\n",
            "count                                        57650   \n",
            "unique                                       57650   \n",
            "top     /a/abba/ahes+my+kind+of+girl_20598417.html   \n",
            "freq                                             1   \n",
            "\n",
            "                                                     text  \n",
            "count                                               57650  \n",
            "unique                                              57494  \n",
            "top     I just came back from a lovely trip along the ...  \n",
            "freq                                                    6  \n"
          ]
        }
      ]
    },
    {
      "cell_type": "code",
      "source": [
        "# Handle missing values\n",
        "spotify_df.dropna(inplace=True)\n",
        "\n",
        "# Remove duplicate rows\n",
        "spotify_df.drop_duplicates(inplace=True)\n"
      ],
      "metadata": {
        "id": "w52lL2a4eb7u"
      },
      "execution_count": 9,
      "outputs": []
    },
    {
      "cell_type": "code",
      "source": [
        "import nltk\n",
        "from nltk.tokenize import word_tokenize\n",
        "\n",
        "# Download required resources for tokenization (run this line only once)\n",
        "nltk.download('punkt')\n",
        "\n",
        "# Print the length of the DataFrame before tokenization\n",
        "print(\"Number of rows before tokenization:\", len(spotify_df))\n",
        "\n",
        "# Tokenize words in each row of the DataFrame\n",
        "spotify_df['tokenized_text'] = spotify_df.apply(lambda row: word_tokenize(row['artist']), axis=1)\n",
        "\n",
        "# Display the DataFrame with tokenized words\n",
        "print(spotify_df.head())\n",
        "\n",
        "# Print the length of the DataFrame after tokenization\n",
        "print(\"Number of rows after tokenization:\", len(spotify_df))\n"
      ],
      "metadata": {
        "colab": {
          "base_uri": "https://localhost:8080/"
        },
        "id": "A0trDyUPf7ea",
        "outputId": "2a570752-d21d-4022-9d9c-295fe09b8f1d"
      },
      "execution_count": 12,
      "outputs": [
        {
          "output_type": "stream",
          "name": "stderr",
          "text": [
            "[nltk_data] Downloading package punkt to /root/nltk_data...\n",
            "[nltk_data]   Package punkt is already up-to-date!\n"
          ]
        },
        {
          "output_type": "stream",
          "name": "stdout",
          "text": [
            "Number of rows before tokenization: 57650\n",
            "  artist                   song                                        link  \\\n",
            "0   ABBA  Ahe's My Kind Of Girl  /a/abba/ahes+my+kind+of+girl_20598417.html   \n",
            "1   ABBA       Andante, Andante       /a/abba/andante+andante_20002708.html   \n",
            "2   ABBA         As Good As New        /a/abba/as+good+as+new_20003033.html   \n",
            "3   ABBA                   Bang                  /a/abba/bang_20598415.html   \n",
            "4   ABBA       Bang-A-Boomerang      /a/abba/bang+a+boomerang_20002668.html   \n",
            "\n",
            "                                                text tokenized_text  \n",
            "0  Look at her face, it's a wonderful face  \\nAnd...         [ABBA]  \n",
            "1  Take it easy with me, please  \\nTouch me gentl...         [ABBA]  \n",
            "2  I'll never know why I had to go  \\nWhy I had t...         [ABBA]  \n",
            "3  Making somebody happy is a question of give an...         [ABBA]  \n",
            "4  Making somebody happy is a question of give an...         [ABBA]  \n",
            "Number of rows after tokenization: 57650\n"
          ]
        }
      ]
    },
    {
      "cell_type": "code",
      "source": [
        "import nltk\n",
        "nltk.download('stopwords')\n",
        "\n",
        "\n",
        "# Function to clean text\n",
        "def clean_text(tokens):\n",
        "    tokens = [word.lower() for word in tokens if word not in string.punctuation]\n",
        "    tokens = [word for word in tokens if word not in stopwords.words('english')]\n",
        "    return tokens\n",
        "\n",
        "# Apply text cleaning to tokenized words\n",
        "spotify_df['cleaned_text'] = spotify_df['tokenized_text'].apply(clean_text)\n"
      ],
      "metadata": {
        "colab": {
          "base_uri": "https://localhost:8080/"
        },
        "id": "dETULbaDhXxL",
        "outputId": "0bcdf5a6-48e2-42be-e169-fe69dd618998"
      },
      "execution_count": 14,
      "outputs": [
        {
          "output_type": "stream",
          "name": "stderr",
          "text": [
            "[nltk_data] Downloading package stopwords to /root/nltk_data...\n",
            "[nltk_data]   Unzipping corpora/stopwords.zip.\n"
          ]
        }
      ]
    },
    {
      "cell_type": "code",
      "source": [
        "print(spotify_df.head())\n"
      ],
      "metadata": {
        "colab": {
          "base_uri": "https://localhost:8080/"
        },
        "id": "g5AFytn4iTsJ",
        "outputId": "a62ef92c-d079-4fc0-e9b5-cefb0de5a33c"
      },
      "execution_count": 15,
      "outputs": [
        {
          "output_type": "stream",
          "name": "stdout",
          "text": [
            "  artist                   song                                        link  \\\n",
            "0   ABBA  Ahe's My Kind Of Girl  /a/abba/ahes+my+kind+of+girl_20598417.html   \n",
            "1   ABBA       Andante, Andante       /a/abba/andante+andante_20002708.html   \n",
            "2   ABBA         As Good As New        /a/abba/as+good+as+new_20003033.html   \n",
            "3   ABBA                   Bang                  /a/abba/bang_20598415.html   \n",
            "4   ABBA       Bang-A-Boomerang      /a/abba/bang+a+boomerang_20002668.html   \n",
            "\n",
            "                                                text tokenized_text  \\\n",
            "0  Look at her face, it's a wonderful face  \\nAnd...         [ABBA]   \n",
            "1  Take it easy with me, please  \\nTouch me gentl...         [ABBA]   \n",
            "2  I'll never know why I had to go  \\nWhy I had t...         [ABBA]   \n",
            "3  Making somebody happy is a question of give an...         [ABBA]   \n",
            "4  Making somebody happy is a question of give an...         [ABBA]   \n",
            "\n",
            "  cleaned_text  \n",
            "0       [abba]  \n",
            "1       [abba]  \n",
            "2       [abba]  \n",
            "3       [abba]  \n",
            "4       [abba]  \n"
          ]
        }
      ]
    },
    {
      "cell_type": "code",
      "source": [
        "# Save the DataFrame to a CSV file\n",
        "spotify_df.to_csv('spotify_dataset.csv', index=False)\n",
        "\n",
        "# Provide a link to download the CSV file\n",
        "from google.colab import files\n",
        "files.download('spotify_dataset.csv')\n"
      ],
      "metadata": {
        "colab": {
          "base_uri": "https://localhost:8080/",
          "height": 17
        },
        "id": "cnppAREXijt9",
        "outputId": "066c1797-03aa-411f-fc80-936c294b1a4a"
      },
      "execution_count": 16,
      "outputs": [
        {
          "output_type": "display_data",
          "data": {
            "text/plain": [
              "<IPython.core.display.Javascript object>"
            ],
            "application/javascript": [
              "\n",
              "    async function download(id, filename, size) {\n",
              "      if (!google.colab.kernel.accessAllowed) {\n",
              "        return;\n",
              "      }\n",
              "      const div = document.createElement('div');\n",
              "      const label = document.createElement('label');\n",
              "      label.textContent = `Downloading \"${filename}\": `;\n",
              "      div.appendChild(label);\n",
              "      const progress = document.createElement('progress');\n",
              "      progress.max = size;\n",
              "      div.appendChild(progress);\n",
              "      document.body.appendChild(div);\n",
              "\n",
              "      const buffers = [];\n",
              "      let downloaded = 0;\n",
              "\n",
              "      const channel = await google.colab.kernel.comms.open(id);\n",
              "      // Send a message to notify the kernel that we're ready.\n",
              "      channel.send({})\n",
              "\n",
              "      for await (const message of channel.messages) {\n",
              "        // Send a message to notify the kernel that we're ready.\n",
              "        channel.send({})\n",
              "        if (message.buffers) {\n",
              "          for (const buffer of message.buffers) {\n",
              "            buffers.push(buffer);\n",
              "            downloaded += buffer.byteLength;\n",
              "            progress.value = downloaded;\n",
              "          }\n",
              "        }\n",
              "      }\n",
              "      const blob = new Blob(buffers, {type: 'application/binary'});\n",
              "      const a = document.createElement('a');\n",
              "      a.href = window.URL.createObjectURL(blob);\n",
              "      a.download = filename;\n",
              "      div.appendChild(a);\n",
              "      a.click();\n",
              "      div.remove();\n",
              "    }\n",
              "  "
            ]
          },
          "metadata": {}
        },
        {
          "output_type": "display_data",
          "data": {
            "text/plain": [
              "<IPython.core.display.Javascript object>"
            ],
            "application/javascript": [
              "download(\"download_0e4baf4e-8239-45cf-b483-a1072b4c0d29\", \"spotify_dataset.csv\", 74702729)"
            ]
          },
          "metadata": {}
        }
      ]
    }
  ]
}